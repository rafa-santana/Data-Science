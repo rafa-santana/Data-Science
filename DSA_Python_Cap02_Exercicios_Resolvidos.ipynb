{
  "cells": [
    {
      "cell_type": "markdown",
      "metadata": {
        "id": "view-in-github",
        "colab_type": "text"
      },
      "source": [
        "<a href=\"https://colab.research.google.com/github/rafa-santana/Data-Science/blob/main/DSA_Python_Cap02_Exercicios_Resolvidos.ipynb\" target=\"_parent\"><img src=\"https://colab.research.google.com/assets/colab-badge.svg\" alt=\"Open In Colab\"/></a>"
      ]
    },
    {
      "cell_type": "markdown",
      "metadata": {
        "id": "MW6eT69lZ1Qm"
      },
      "source": [
        "# <font color='blue'>Data Science Academy - Python Fundamentos - Capítulo 2</font>\n",
        "\n",
        "## Download: http://github.com/dsacademybr"
      ]
    },
    {
      "cell_type": "code",
      "execution_count": null,
      "metadata": {
        "id": "wlmKZnRkZ1Qu",
        "outputId": "8177e779-f747-49dc-e9a5-8ac2cd2431f9"
      },
      "outputs": [
        {
          "name": "stdout",
          "output_type": "stream",
          "text": [
            "Versão da Linguagem Python Usada Neste Jupyter Notebook: 3.8.8\n"
          ]
        }
      ],
      "source": [
        "# Versão da Linguagem Python\n",
        "from platform import python_version\n",
        "print('Versão da Linguagem Python Usada Neste Jupyter Notebook:', python_version())"
      ]
    },
    {
      "cell_type": "markdown",
      "metadata": {
        "id": "RUDjGseUZ1Qw"
      },
      "source": [
        "## Exercícios Cap02"
      ]
    },
    {
      "cell_type": "code",
      "execution_count": 2,
      "metadata": {
        "colab": {
          "base_uri": "https://localhost:8080/"
        },
        "id": "N5eVQ_AYZ1Qw",
        "outputId": "741b1b75-ddfa-425e-9490-84b38e27ac30"
      },
      "outputs": [
        {
          "output_type": "stream",
          "name": "stdout",
          "text": [
            "[1, 2, 3, 4, 5, 6, 7, 8, 9, 10]\n"
          ]
        }
      ],
      "source": [
        "# Exercício 1 - Imprima na tela os números de 1 a 10. Use uma lista para armazenar os números.\n",
        "n = [1,2,3,4,5,6,7,8,9,10]\n",
        "print(n)\n"
      ]
    },
    {
      "cell_type": "code",
      "execution_count": 3,
      "metadata": {
        "colab": {
          "base_uri": "https://localhost:8080/"
        },
        "id": "fTixcRFNZ1Qx",
        "outputId": "460acc59-f944-4f8a-9d2f-0ca828b340b5"
      },
      "outputs": [
        {
          "output_type": "stream",
          "name": "stdout",
          "text": [
            "['João', 3, 4, 5.2, 'José']\n"
          ]
        }
      ],
      "source": [
        "# Exercício 2 - Crie uma lista de 5 objetos e imprima na tela\n",
        "\n",
        "l = [\"João\", 3, 4, 5.2, \"José\"]\n",
        "print(l)"
      ]
    },
    {
      "cell_type": "code",
      "execution_count": 5,
      "metadata": {
        "colab": {
          "base_uri": "https://localhost:8080/"
        },
        "id": "K_kUl_0VZ1Qx",
        "outputId": "b9d2b733-808b-4b9b-a61c-d1dca90827eb"
      },
      "outputs": [
        {
          "output_type": "stream",
          "name": "stdout",
          "text": [
            "Rafael Reis dos Santos Santana\n"
          ]
        }
      ],
      "source": [
        "# Exercício 3 - Crie duas strings e concatene as duas em uma terceira string\n",
        "\n",
        "nome = \"Rafael\"\n",
        "sobrenome = \" Reis dos Santos Santana\"\n",
        "nomecompleto = nome + sobrenome\n",
        "print(nomecompleto)\n"
      ]
    },
    {
      "cell_type": "code",
      "execution_count": null,
      "metadata": {
        "id": "0sZ_Se6VZ1Qx"
      },
      "outputs": [],
      "source": [
        "# Exercício 4 - Crie uma tupla com os seguintes elementos: 1, 2, 2, 3, 4, 4, 4, 5 e depois utilize a função count do \n",
        "# objeto tupla para verificar quantas vezes o número 4 aparece na tupla"
      ]
    },
    {
      "cell_type": "code",
      "execution_count": null,
      "metadata": {
        "id": "63zbyhW2Z1Qy"
      },
      "outputs": [],
      "source": [
        "# Exercício 5 - Crie um dicionário vazio e imprima na tela"
      ]
    },
    {
      "cell_type": "code",
      "execution_count": null,
      "metadata": {
        "id": "ih9XWEhqZ1Qy"
      },
      "outputs": [],
      "source": [
        "# Exercício 6 - Crie um dicionário com 3 chaves e 3 valores e imprima na tela"
      ]
    },
    {
      "cell_type": "code",
      "execution_count": null,
      "metadata": {
        "id": "d5SmqsnBZ1Qz"
      },
      "outputs": [],
      "source": [
        "# Exercício 7 - Adicione mais um elemento ao dicionário criado no exercício anterior e imprima na tela"
      ]
    },
    {
      "cell_type": "code",
      "execution_count": null,
      "metadata": {
        "id": "9qxMRYuEZ1Qz"
      },
      "outputs": [],
      "source": [
        "# Exercício 8 - Crie um dicionário com 3 chaves e 3 valores. Um dos valores deve ser uma lista de 2 elementos numéricos. \n",
        "# Imprima o dicionário na tela."
      ]
    },
    {
      "cell_type": "code",
      "execution_count": null,
      "metadata": {
        "id": "XLLn6oolZ1Q0"
      },
      "outputs": [],
      "source": [
        "# Exercício 9 - Crie uma lista de 4 elementos. O primeiro elemento deve ser uma string, \n",
        "# o segundo uma tupla de 2 elementos, o terceiro um dcionário com 2 chaves e 2 valores e \n",
        "# o quarto elemento um valor do tipo float.\n",
        "# Imprima a lista na tela."
      ]
    },
    {
      "cell_type": "code",
      "execution_count": null,
      "metadata": {
        "id": "mQuURsK9Z1Q0"
      },
      "outputs": [],
      "source": [
        "# Exercício 10 - Considere a string abaixo. Imprima na tela apenas os caracteres da posição 1 a 18.\n",
        "frase = 'Cientista de Dados é o profissional mais sexy do século XXI'"
      ]
    },
    {
      "cell_type": "markdown",
      "metadata": {
        "id": "UcIbAHLyZ1Q1"
      },
      "source": [
        "# Fim"
      ]
    },
    {
      "cell_type": "markdown",
      "metadata": {
        "id": "gwPwuyGQZ1Q1"
      },
      "source": [
        "### Obrigado\n",
        "\n",
        "### Visite o Blog da Data Science Academy - <a href=\"http://blog.dsacademy.com.br\">Blog DSA</a>"
      ]
    },
    {
      "cell_type": "markdown",
      "metadata": {
        "id": "d89SDP5TZ1Q1"
      },
      "source": [
        "Parabéns se você chegou até aqui. Use o voucher PYTHONDSA9642 para comprar qualquer curso ou Formação da DSA com 5% de desconto."
      ]
    }
  ],
  "metadata": {
    "kernelspec": {
      "display_name": "Python 3",
      "language": "python",
      "name": "python3"
    },
    "language_info": {
      "codemirror_mode": {
        "name": "ipython",
        "version": 3
      },
      "file_extension": ".py",
      "mimetype": "text/x-python",
      "name": "python",
      "nbconvert_exporter": "python",
      "pygments_lexer": "ipython3",
      "version": "3.8.8"
    },
    "colab": {
      "name": "DSA-Python-Cap02-Exercicios.ipynb",
      "provenance": [],
      "include_colab_link": true
    }
  },
  "nbformat": 4,
  "nbformat_minor": 0
}